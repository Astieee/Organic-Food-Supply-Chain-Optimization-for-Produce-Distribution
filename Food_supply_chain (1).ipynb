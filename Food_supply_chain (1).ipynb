{
  "cells": [
    {
      "cell_type": "markdown",
      "metadata": {
        "id": "7o0PxXyYKwc5"
      },
      "source": [
        "Install amplpy and other packages"
      ]
    },
    {
      "cell_type": "code",
      "execution_count": 1,
      "metadata": {
        "id": "G004pZj1XA_0",
        "colab": {
          "base_uri": "https://localhost:8080/"
        },
        "outputId": "86f5666a-56db-411c-a233-874a76566a78"
      },
      "outputs": [
        {
          "output_type": "stream",
          "name": "stdout",
          "text": [
            "\u001b[?25l     \u001b[90m━━━━━━━━━━━━━━━━━━━━━━━━━━━━━━━━━━━━━━━━\u001b[0m \u001b[32m0.0/5.6 MB\u001b[0m \u001b[31m?\u001b[0m eta \u001b[36m-:--:--\u001b[0m\r\u001b[2K     \u001b[91m╸\u001b[0m\u001b[90m━━━━━━━━━━━━━━━━━━━━━━━━━━━━━━━━━━━━━━━\u001b[0m \u001b[32m0.1/5.6 MB\u001b[0m \u001b[31m2.6 MB/s\u001b[0m eta \u001b[36m0:00:03\u001b[0m\r\u001b[2K     \u001b[91m━━━━━\u001b[0m\u001b[90m╺\u001b[0m\u001b[90m━━━━━━━━━━━━━━━━━━━━━━━━━━━━━━━━━━\u001b[0m \u001b[32m0.7/5.6 MB\u001b[0m \u001b[31m10.7 MB/s\u001b[0m eta \u001b[36m0:00:01\u001b[0m\r\u001b[2K     \u001b[91m━━━━━━━━━━━━━━━━━━━━━━━━━━━━━━━\u001b[0m\u001b[90m╺\u001b[0m\u001b[90m━━━━━━━━\u001b[0m \u001b[32m4.4/5.6 MB\u001b[0m \u001b[31m42.2 MB/s\u001b[0m eta \u001b[36m0:00:01\u001b[0m\r\u001b[2K     \u001b[91m━━━━━━━━━━━━━━━━━━━━━━━━━━━━━━━━━━━━━━━\u001b[0m\u001b[91m╸\u001b[0m \u001b[32m5.6/5.6 MB\u001b[0m \u001b[31m50.2 MB/s\u001b[0m eta \u001b[36m0:00:01\u001b[0m\r\u001b[2K     \u001b[90m━━━━━━━━━━━━━━━━━━━━━━━━━━━━━━━━━━━━━━━━\u001b[0m \u001b[32m5.6/5.6 MB\u001b[0m \u001b[31m39.7 MB/s\u001b[0m eta \u001b[36m0:00:00\u001b[0m\n",
            "\u001b[?25h"
          ]
        }
      ],
      "source": [
        "!pip install -q amplpy ampltools pandas"
      ]
    },
    {
      "cell_type": "code",
      "source": [
        "# Google Colab & AMPL integration\n",
        "\n",
        "MODULES, LICENSE_UUID = [\"coin\", 'gurobi', \"cplex\", \"highs\", \"gokestrel\"], \"6b31af08-ff1f-429f-ad0b-4bb913b68f75\"\n",
        "\n",
        "from amplpy import tools\n",
        "from ampltools import cloud_platform_name, ampl_notebook, register_magics\n",
        "\n",
        "# instantiate AMPL object and register magics\n",
        "if cloud_platform_name() is None:\n",
        "    ampl = AMPL() # Use local installation of AMPL\n",
        "else:\n",
        "    ampl = tools.ampl_notebook(modules=MODULES, license_uuid=LICENSE_UUID, g=globals())\n",
        "\n",
        "register_magics(ampl_object=ampl)"
      ],
      "metadata": {
        "colab": {
          "base_uri": "https://localhost:8080/"
        },
        "id": "64T6lZaLTvWX",
        "outputId": "5aa523b6-b16f-4b96-c161-e374f49ca884"
      },
      "execution_count": 2,
      "outputs": [
        {
          "output_type": "stream",
          "name": "stdout",
          "text": [
            "Licensed to Bundle #6300.6669 expiring 20231231: INFO 645 Prescriptive Analytics, Prof. Paul Brooks, Virginia Commonwealth University.\n"
          ]
        }
      ]
    },
    {
      "cell_type": "markdown",
      "metadata": {
        "id": "aXpG6dCWK6gr"
      },
      "source": [
        "Mount Google Drive"
      ]
    },
    {
      "cell_type": "code",
      "execution_count": 3,
      "metadata": {
        "id": "TMx5bBtoK-g0",
        "colab": {
          "base_uri": "https://localhost:8080/"
        },
        "outputId": "8d2b9029-3bdc-4a53-94ef-29256b0ef83e"
      },
      "outputs": [
        {
          "output_type": "stream",
          "name": "stdout",
          "text": [
            "Mounted at /content/drive\n"
          ]
        }
      ],
      "source": [
        "from google.colab import drive\n",
        "drive.mount('/content/drive')"
      ]
    },
    {
      "cell_type": "markdown",
      "source": [
        "Read the data using pandas."
      ],
      "metadata": {
        "id": "A5tLpi62B7Ba"
      }
    },
    {
      "cell_type": "code",
      "source": [
        "import pandas as pd\n",
        "\n",
        "# Load the data from the Excel file\n",
        "file_path = \"/content/drive/MyDrive/645/Datasets/Food supply chain optimization.xlsx\"\n",
        "\n",
        "# Load data from the sheet containing transportation costs from orchard to preparation centers\n",
        "prep_center_data = pd.read_excel(file_path, sheet_name=\"Sheet1\", index_col=0)\n",
        "preparation_centers = prep_center_data.index.tolist()\n",
        "cost_orchard_to_prep = prep_center_data['Transportation Cost ($/pound) (Orchard to Preparation Center)'].to_dict()\n",
        "cost_prep = prep_center_data['Preparation Cost ($/pound)'].to_dict()\n",
        "capacity_prep = prep_center_data['Monthly Capacity (pounds)'].to_dict()\n",
        "\n",
        "# Load data from the sheet containing costs from preparation centers to specialty stores and their demand\n",
        "store_data = pd.read_excel(file_path, sheet_name=\"sheet2\", header=None)\n",
        "stores = store_data.iloc[0, 1:].values.tolist()\n",
        "demands = store_data.iloc[-1, 1:].values.tolist()\n",
        "\n",
        "cost_prep_to_store = {}\n",
        "for i in range(1, len(store_data)):\n",
        "    center = store_data.iloc[i, 0]\n",
        "    if center in preparation_centers:\n",
        "        costs = dict(zip(stores, store_data.iloc[i, 1:]))\n",
        "        cost_prep_to_store[center] = costs\n",
        "\n",
        "# Ensure the indices and lengths align correctly\n",
        "assert len(stores) == len(demands), \"Mismatch in the number of stores and demands\"\n",
        "\n",
        "# Create the demand_store dictionary\n",
        "demand_store = dict(zip(stores, demands))\n",
        "\n",
        "# Print to verify the demand_store dictionary\n",
        "print(\"Demand for each store:\", demand_store)"
      ],
      "metadata": {
        "colab": {
          "base_uri": "https://localhost:8080/"
        },
        "id": "nha-pa4mCRwI",
        "outputId": "d51f00ad-7953-42a7-896e-7440ceb77d12"
      },
      "execution_count": 4,
      "outputs": [
        {
          "output_type": "stream",
          "name": "stdout",
          "text": [
            "Demand for each store: {'Organic Orchard': 300, 'Fresh & Local': 500, 'Healthy Pantry': 400, \"Season's Harvest\": 200}\n"
          ]
        }
      ]
    },
    {
      "cell_type": "code",
      "source": [
        "# Setting up the AMPL model\n",
        "import amplpy\n",
        "ampl = amplpy.AMPL()"
      ],
      "metadata": {
        "id": "fOkF8oiIQhdi"
      },
      "execution_count": 5,
      "outputs": []
    },
    {
      "cell_type": "code",
      "source": [
        "ampl.eval('''\n",
        "\n",
        "reset;\n",
        "\n",
        "# Sets for preparation centers and stores\n",
        "set PreparationCenters;\n",
        "set Stores;\n",
        "\n",
        "# Parameters for costs, capacities, and demands\n",
        "param Cost_Orchard_to_Prep{PreparationCenters};\n",
        "param Cost_Prep{PreparationCenters};\n",
        "param Capacity_Prep{PreparationCenters};\n",
        "param Cost_Prep_to_Store{PreparationCenters, Stores};\n",
        "param Demand_Store{Stores};\n",
        "\n",
        "# Decision variables\n",
        "var x{PreparationCenters} >= 0;  # Apples to preparation centers\n",
        "var y{PreparationCenters, Stores} >= 0;  # Apples to stores\n",
        "\n",
        "# Objective function - Minimize total cost\n",
        "minimize TotalCost:\n",
        "    sum{i in PreparationCenters} (Cost_Orchard_to_Prep[i] + Cost_Prep[i]) * x[i] + sum{i in PreparationCenters, j in Stores} Cost_Prep_to_Store[i,j] * y[i,j];\n",
        "\n",
        "# Constraints\n",
        "subject to CapacityConstraint{i in PreparationCenters}:\n",
        "    sum{j in Stores} y[i,j] <= x[i];\n",
        "\n",
        "subject to DemandConstraint{j in Stores}:\n",
        "    sum{i in PreparationCenters} y[i,j] >= Demand_Store[j];\n",
        "\n",
        "subject to PrepCenterCapacity{i in PreparationCenters}:\n",
        "    x[i] <= Capacity_Prep[i];\n",
        "''')"
      ],
      "metadata": {
        "id": "6wwNfyLpQj3v"
      },
      "execution_count": 6,
      "outputs": []
    },
    {
      "cell_type": "code",
      "source": [
        "# Set the sets for preparation centers and stores in AMPL\n",
        "ampl.set['PreparationCenters'] = preparation_centers\n",
        "ampl.set['Stores'] = stores\n",
        "\n",
        "# Set the parameters for costs, capacities, and demands in AMPL\n",
        "ampl.param['Cost_Orchard_to_Prep'] = cost_orchard_to_prep\n",
        "ampl.param['Cost_Prep'] = cost_prep\n",
        "ampl.param['Capacity_Prep'] = capacity_prep\n",
        "\n",
        "# Setting the transportation costs from preparation centers to stores in AMPL\n",
        "for center in preparation_centers:\n",
        "    for store in stores:\n",
        "        ampl.param['Cost_Prep_to_Store'][center, store] = cost_prep_to_store[center][store]\n",
        "\n",
        "ampl.param['Demand_Store'] = demand_store\n"
      ],
      "metadata": {
        "id": "6jFuSpZ3Qvp9"
      },
      "execution_count": 7,
      "outputs": []
    },
    {
      "cell_type": "code",
      "source": [
        "ampl.eval('''expand;''')"
      ],
      "metadata": {
        "colab": {
          "base_uri": "https://localhost:8080/"
        },
        "id": "rQkO2irzUIWM",
        "outputId": "2744f4d0-9326-4778-9e5d-82cb932d37d6"
      },
      "execution_count": 8,
      "outputs": [
        {
          "output_type": "stream",
          "name": "stdout",
          "text": [
            "minimize TotalCost:\n",
            "\t0.6*x[1] + 1.2*x[2] + 1.8*x[3] + 0.8*y[1,'Organic Orchard'] + \n",
            "\t1.1*y[1,'Fresh & Local'] + 0.7*y[1,'Healthy Pantry'] + \n",
            "\t1.4*y[1,\"Season's Harvest\"] + 1.2*y[2,'Organic Orchard'] + \n",
            "\t1.1*y[2,'Fresh & Local'] + 0.5*y[2,'Healthy Pantry'] + \n",
            "\t1.4*y[2,\"Season's Harvest\"] + 0.2*y[3,'Organic Orchard'] + \n",
            "\t1.4*y[3,'Fresh & Local'] + 1.3*y[3,'Healthy Pantry'] + \n",
            "\t1.7*y[3,\"Season's Harvest\"];\n",
            "\n",
            "subject to CapacityConstraint[1]:\n",
            "\t-x[1] + y[1,'Organic Orchard'] + y[1,'Fresh & Local'] + \n",
            "\ty[1,'Healthy Pantry'] + y[1,\"Season's Harvest\"] <= 0;\n",
            "\n",
            "subject to CapacityConstraint[2]:\n",
            "\t-x[2] + y[2,'Organic Orchard'] + y[2,'Fresh & Local'] + \n",
            "\ty[2,'Healthy Pantry'] + y[2,\"Season's Harvest\"] <= 0;\n",
            "\n",
            "subject to CapacityConstraint[3]:\n",
            "\t-x[3] + y[3,'Organic Orchard'] + y[3,'Fresh & Local'] + \n",
            "\ty[3,'Healthy Pantry'] + y[3,\"Season's Harvest\"] <= 0;\n",
            "\n",
            "subject to DemandConstraint['Organic Orchard']:\n",
            "\ty[1,'Organic Orchard'] + y[2,'Organic Orchard'] + \n",
            "\ty[3,'Organic Orchard'] >= 300;\n",
            "\n",
            "subject to DemandConstraint['Fresh & Local']:\n",
            "\ty[1,'Fresh & Local'] + y[2,'Fresh & Local'] + y[3,'Fresh & Local'] >= \n",
            "\t500;\n",
            "\n",
            "subject to DemandConstraint['Healthy Pantry']:\n",
            "\ty[1,'Healthy Pantry'] + y[2,'Healthy Pantry'] + y[3,'Healthy Pantry']\n",
            "\t >= 400;\n",
            "\n",
            "subject to DemandConstraint[\"Season's Harvest\"]:\n",
            "\ty[1,\"Season's Harvest\"] + y[2,\"Season's Harvest\"] + \n",
            "\ty[3,\"Season's Harvest\"] >= 200;\n",
            "\n",
            "subject to PrepCenterCapacity[1]:\n",
            "\tx[1] <= 300;\n",
            "\n",
            "subject to PrepCenterCapacity[2]:\n",
            "\tx[2] <= 500;\n",
            "\n",
            "subject to PrepCenterCapacity[3]:\n",
            "\tx[3] <= 800;\n",
            "\n"
          ]
        }
      ]
    },
    {
      "cell_type": "code",
      "source": [
        "ampl.setOption('solver', 'cbc')\n",
        "ampl.solve()"
      ],
      "metadata": {
        "colab": {
          "base_uri": "https://localhost:8080/"
        },
        "id": "emVqFY16Q6P-",
        "outputId": "7961eb69-4860-4bf1-abeb-fa5881ca98df"
      },
      "execution_count": 9,
      "outputs": [
        {
          "output_type": "stream",
          "name": "stdout",
          "text": [
            "cbc 2.10.10: \b\b\b\b\b\b\b\b\b\b\b\b\bcbc 2.10.10: optimal solution; objective 3040\n",
            "0 simplex iterations\n",
            " \n"
          ]
        }
      ]
    },
    {
      "cell_type": "code",
      "source": [
        "# Print results\n",
        "print(\"Total Cost:\", ampl.getObjective('TotalCost').value())\n",
        "print(\"Apples to Preparation Centers (x):\")\n",
        "ampl.display('x')\n",
        "print(\"Apples from Preparation Centers to Stores (y):\")\n",
        "ampl.display('y')"
      ],
      "metadata": {
        "colab": {
          "base_uri": "https://localhost:8080/"
        },
        "id": "kiSMPK_yRqZQ",
        "outputId": "cc7b389f-e4b8-42f8-b8fd-1359f1a14401"
      },
      "execution_count": 10,
      "outputs": [
        {
          "output_type": "stream",
          "name": "stdout",
          "text": [
            "Total Cost: 3040.0\n",
            "Apples to Preparation Centers (x):\n",
            "x [*] :=\n",
            "1  300\n",
            "2  500\n",
            "3  600\n",
            ";\n",
            "\n",
            "Apples from Preparation Centers to Stores (y):\n",
            "y :=\n",
            "1 'Fresh & Local'      100\n",
            "1 'Healthy Pantry'       0\n",
            "1 'Organic Orchard'      0\n",
            "1 \"Season's Harvest\"   200\n",
            "2 'Fresh & Local'      100\n",
            "2 'Healthy Pantry'     400\n",
            "2 'Organic Orchard'      0\n",
            "2 \"Season's Harvest\"     0\n",
            "3 'Fresh & Local'      300\n",
            "3 'Healthy Pantry'       0\n",
            "3 'Organic Orchard'    300\n",
            "3 \"Season's Harvest\"     0\n",
            ";\n",
            "\n"
          ]
        }
      ]
    }
  ],
  "metadata": {
    "colab": {
      "provenance": []
    },
    "kernelspec": {
      "display_name": "Python 3 (ipykernel)",
      "language": "python",
      "name": "python3"
    },
    "language_info": {
      "codemirror_mode": {
        "name": "ipython",
        "version": 3
      },
      "file_extension": ".py",
      "mimetype": "text/x-python",
      "name": "python",
      "nbconvert_exporter": "python",
      "pygments_lexer": "ipython3",
      "version": "3.9.13"
    }
  },
  "nbformat": 4,
  "nbformat_minor": 0
}